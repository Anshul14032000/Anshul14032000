{
 "cells": [
  {
   "cell_type": "code",
   "execution_count": 1,
   "id": "4fbb3e8b",
   "metadata": {},
   "outputs": [
    {
     "ename": "IndentationError",
     "evalue": "expected an indented block (<ipython-input-1-de964a76e6b4>, line 4)",
     "output_type": "error",
     "traceback": [
      "\u001b[1;36m  File \u001b[1;32m\"<ipython-input-1-de964a76e6b4>\"\u001b[1;36m, line \u001b[1;32m4\u001b[0m\n\u001b[1;33m    profit= sp-cp:\u001b[0m\n\u001b[1;37m    ^\u001b[0m\n\u001b[1;31mIndentationError\u001b[0m\u001b[1;31m:\u001b[0m expected an indented block\n"
     ]
    }
   ],
   "source": [
    "cp = 500\n",
    "sp = 800\n",
    "if sp >cp:\n",
    "profit= sp-cp:\n",
    "profit_percentage = profit/cp *100\n",
    "print(\"i have a profit of,profit\")\n",
    "print(\"i have made a profit % of,profit_percentage\")\n",
    "else\n",
    "loss = cp-sp\n",
    "loss_percentage = loss/cp *100\n",
    "print(\"i have a loss of,loss\")\n",
    "print(\"i have made a loss % of,loss_percentage\")\n"
   ]
  },
  {
   "cell_type": "code",
   "execution_count": 11,
   "id": "62b1ab27",
   "metadata": {},
   "outputs": [
    {
     "name": "stdout",
     "output_type": "stream",
     "text": [
      "I have a profit 100 rupee\n",
      "I have a profit% 50.0 %\n"
     ]
    }
   ],
   "source": [
    "cp=200\n",
    "sp=300\n",
    "profit=sp-cp\n",
    "profit_per=profit/cp*100\n",
    "print(\"I have a profit\",profit,\"rupee\")\n",
    "print(\"I have a profit%\",profit_per,\"%\")\n"
   ]
  },
  {
   "cell_type": "code",
   "execution_count": 12,
   "id": "dfffdfa6",
   "metadata": {},
   "outputs": [
    {
     "name": "stdout",
     "output_type": "stream",
     "text": [
      "I Have a profit of 300 Rs\n",
      "I Have a profit percentage 60.0 %\n"
     ]
    }
   ],
   "source": [
    "cp=500\n",
    "sp=800\n",
    "if sp>cp:\n",
    "    profit=sp-cp\n",
    "    profit_per=profit/cp*100\n",
    "    print(\"I Have a profit of\",profit,\"Rs\")\n",
    "    print(\"I Have a profit percentage\",profit_per,\"%\")\n",
    "else:\n",
    "    loss=cp-sp\n",
    "    loss_per=loss/cp*100\n",
    "    print(\"I Have a loss of\",loss,\"Rs\")\n",
    "    print(\"I Have a loss percentage\",loss_per,\"%\")\n",
    "    "
   ]
  },
  {
   "cell_type": "code",
   "execution_count": 16,
   "id": "d9b2ae85",
   "metadata": {},
   "outputs": [
    {
     "name": "stdout",
     "output_type": "stream",
     "text": [
      "a is an odd number\n"
     ]
    }
   ],
   "source": [
    "a=7\n",
    "if a%2==0:\n",
    "        print(\"a is an even number\")\n",
    "else:\n",
    "    print(\"a is an odd number\")\n",
    "    \n",
    "    "
   ]
  },
  {
   "cell_type": "code",
   "execution_count": 21,
   "id": "05c56e9a",
   "metadata": {},
   "outputs": [
    {
     "name": "stdout",
     "output_type": "stream",
     "text": [
      "a is a negative number\n"
     ]
    }
   ],
   "source": [
    "a=-1\n",
    "if a>=0:\n",
    "    print(\"a is a positive number\")\n",
    "else:\n",
    "    print(\"a is a negative number\")"
   ]
  },
  {
   "cell_type": "code",
   "execution_count": 22,
   "id": "66723364",
   "metadata": {},
   "outputs": [],
   "source": [
    "# Grade to the student\n"
   ]
  },
  {
   "cell_type": "code",
   "execution_count": 24,
   "id": "6f21d9fc",
   "metadata": {},
   "outputs": [
    {
     "name": "stdout",
     "output_type": "stream",
     "text": [
      "naman is b grade\n"
     ]
    }
   ],
   "source": [
    "naman=80\n",
    "if naman>80:\n",
    "    print(\"naman is a grade\")\n",
    "else:\n",
    "    print(\"naman is b grade\")"
   ]
  },
  {
   "cell_type": "code",
   "execution_count": 54,
   "id": "bae744d6",
   "metadata": {},
   "outputs": [
    {
     "name": "stdout",
     "output_type": "stream",
     "text": [
      "Naman got A grade\n"
     ]
    }
   ],
   "source": [
    "Naman=85\n",
    "Pawan=50\n",
    "Manan=55\n",
    "Raman=40\n",
    "if Naman>80:\n",
    "    print(\"Naman got A grade\")\n",
    "elif Pawan>70:\n",
    "    print(\"Pawan got B grade\")\n",
    "elif Manan>60:\n",
    "    print(\"Manan got C grade\")\n",
    "else:\n",
    "    print(\"Raman got D grade\")\n"
   ]
  },
  {
   "cell_type": "code",
   "execution_count": 45,
   "id": "34edac3c",
   "metadata": {},
   "outputs": [
    {
     "name": "stdout",
     "output_type": "stream",
     "text": [
      "Grade a\n"
     ]
    }
   ],
   "source": [
    "a=100\n",
    "b=40\n",
    "c=50\n",
    "if a>80:\n",
    "    print(\"Grade a\")\n",
    "elif b>=79:\n",
    "    print(\"Grade b\")\n",
    "else:\n",
    "    print(\"Grade c\")"
   ]
  },
  {
   "cell_type": "code",
   "execution_count": 42,
   "id": "e6e1d274",
   "metadata": {},
   "outputs": [
    {
     "name": "stdout",
     "output_type": "stream",
     "text": [
      "The Highest Number is 300\n"
     ]
    }
   ],
   "source": [
    "a=300\n",
    "b=200\n",
    "c=100\n",
    "if a>b:\n",
    "    print(\"The Highest Number is 300\")\n",
    "else:\n",
    "    print(\"The Lowest Number is 100\")"
   ]
  },
  {
   "cell_type": "code",
   "execution_count": 1,
   "id": "7ae431b4",
   "metadata": {},
   "outputs": [
    {
     "ename": "SyntaxError",
     "evalue": "invalid syntax (<ipython-input-1-16b37af0f8d3>, line 2)",
     "output_type": "error",
     "traceback": [
      "\u001b[1;36m  File \u001b[1;32m\"<ipython-input-1-16b37af0f8d3>\"\u001b[1;36m, line \u001b[1;32m2\u001b[0m\n\u001b[1;33m    salary=\"350000-250000*5/100\":\u001b[0m\n\u001b[1;37m                                ^\u001b[0m\n\u001b[1;31mSyntaxError\u001b[0m\u001b[1;31m:\u001b[0m invalid syntax\n"
     ]
    }
   ],
   "source": [
    "aman =350000\n",
    "salary=\"350000-250000*5/100\":\n",
    "    print(\"The incom tax of aman is\",salary,)"
   ]
  },
  {
   "cell_type": "code",
   "execution_count": 2,
   "id": "44e95fcb",
   "metadata": {},
   "outputs": [
    {
     "data": {
      "text/plain": [
       "'C:\\\\Users\\\\anshu\\\\python file'"
      ]
     },
     "execution_count": 2,
     "metadata": {},
     "output_type": "execute_result"
    }
   ],
   "source": [
    "pwd"
   ]
  },
  {
   "cell_type": "code",
   "execution_count": 6,
   "id": "1e4a0772",
   "metadata": {},
   "outputs": [
    {
     "name": "stdout",
     "output_type": "stream",
     "text": [
      "250 is smallest\n"
     ]
    }
   ],
   "source": [
    "a=800\n",
    "b=500\n",
    "c=250\n",
    "if a<b:\n",
    "    if a<c:\n",
    "            print(a,\"is smallest\")\n",
    "    else:\n",
    "            print(b,\"is smallest\")\n",
    "        \n",
    "else:\n",
    "    if b<c:\n",
    "            print(b,\"is smallest\")\n",
    "    else:\n",
    "            print(c,\"is smallest\")\n",
    "    "
   ]
  },
  {
   "cell_type": "code",
   "execution_count": null,
   "id": "c396a222",
   "metadata": {},
   "outputs": [],
   "source": [
    "income=300000\n",
    "if income<250000:\n",
    "    print(\"income is nill\")n\n",
    "    print(\"the income is under  \")\n",
    "    "
   ]
  },
  {
   "cell_type": "code",
   "execution_count": 2,
   "id": "239ae5bc",
   "metadata": {},
   "outputs": [
    {
     "name": "stdout",
     "output_type": "stream",
     "text": [
      "how much lecture is attended by you 150\n",
      "you are allowed to sit in exams\n",
      "your Present % 50.0\n"
     ]
    }
   ],
   "source": [
    "lecture_attended=int(input(\"how much lecture is attended by you \"))\n",
    "lecture=300\n",
    "percentage=lecture_attended/lecture*100\n",
    "if lecture>=225:\n",
    "    print(\"you are allowed to sit in exams\")\n",
    "    print(\"your Present %\",percentage)\n",
    "else:\n",
    "    print(\"you are not allowed to sit in exams\")\n",
    "    print(\"your present %\",percentage)"
   ]
  },
  {
   "cell_type": "code",
   "execution_count": 1,
   "id": "ee091f81",
   "metadata": {},
   "outputs": [
    {
     "name": "stdout",
     "output_type": "stream",
     "text": [
      "how much lecture is attended by you 150\n",
      "you are not allowed to sit in exams\n",
      "your present % 50.0 %\n"
     ]
    }
   ],
   "source": [
    "lecture_attended=int(input(\"how much lecture is attended by you \"))\n",
    "lecture=300\n",
    "percentage=lecture_attended/lecture*100\n",
    "if lecture_attended>=225:\n",
    "    print(\"you are allowed to sit in exams\")\n",
    "    print(\"your Present %\",percentage,\"%\")\n",
    "else:\n",
    "    print(\"you are not allowed to sit in exams\")\n",
    "    print(\"your present %\",percentage,\"%\")"
   ]
  },
  {
   "cell_type": "code",
   "execution_count": 3,
   "id": "7d4d6e1f",
   "metadata": {},
   "outputs": [
    {
     "data": {
      "text/plain": [
       "'C:\\\\Users\\\\anshu\\\\python file'"
      ]
     },
     "execution_count": 3,
     "metadata": {},
     "output_type": "execute_result"
    }
   ],
   "source": [
    "pwd"
   ]
  },
  {
   "cell_type": "code",
   "execution_count": 8,
   "id": "c1e6eef9",
   "metadata": {},
   "outputs": [
    {
     "name": "stdout",
     "output_type": "stream",
     "text": [
      "Enter your age ?19\n",
      "Are you having driving licenseyes\n",
      "You are allowed to drive\n"
     ]
    }
   ],
   "source": [
    "age=int(input(\"Enter your age ?\"))\n",
    "if age>=18:\n",
    "    dl=input(\"Are you having driving license\")\n",
    "    if dl==\"yes\":\n",
    "        print(\"You are allowed to drive\")\n",
    "    else:\n",
    "        Reciept=input(\"Do you have reciept ?\")\n",
    "        if Reciept==\"yes\":\n",
    "            print(\"You are allowed to drive.\")\n",
    "        else:\n",
    "            print(\"you are not allowed\")\n",
    "else:\n",
    "    (\"You are not allowed to drive\")\n",
    "                \n",
    "    "
   ]
  },
  {
   "cell_type": "code",
   "execution_count": 14,
   "id": "8411c072",
   "metadata": {},
   "outputs": [
    {
     "name": "stdout",
     "output_type": "stream",
     "text": [
      "120\n"
     ]
    }
   ],
   "source": [
    "s=5\n",
    "for a in range(1):\n",
    "    s=s*4*3*2*1\n",
    "print(s)"
   ]
  },
  {
   "cell_type": "code",
   "execution_count": 20,
   "id": "6623f267",
   "metadata": {},
   "outputs": [
    {
     "name": "stdout",
     "output_type": "stream",
     "text": [
      "0\n"
     ]
    }
   ],
   "source": [
    "s=0\n",
    "n=5\n",
    "for a in range(a,n*n-4):\n",
    "    s=a\n",
    "print(s)"
   ]
  },
  {
   "cell_type": "code",
   "execution_count": 11,
   "id": "b57d614b",
   "metadata": {},
   "outputs": [
    {
     "name": "stdout",
     "output_type": "stream",
     "text": [
      "What was your turnover ?20000000\n",
      "Did you have done your monthly 2A reconcilationno\n",
      "First do your monthly reconcilation then you are allowed to file return\n"
     ]
    }
   ],
   "source": [
    "Turnover=int(input(\"What was your turnover ?\"))\n",
    "if Turnover>=15000000:\n",
    "    Reconcilation=input(\"Did you have done your monthly 2A reconcilation\")\n",
    "    if Reconcilation==\"yes\":\n",
    "        print (\"you are allowed to file Return\")\n",
    "    else:\n",
    "        print(\"First do your monthly reconcilation then you are allowed to file return\")\n",
    "else:\n",
    "    print(\"You are not allowed to file return\")\n",
    "    "
   ]
  },
  {
   "cell_type": "code",
   "execution_count": 22,
   "id": "984672ee",
   "metadata": {},
   "outputs": [
    {
     "name": "stdout",
     "output_type": "stream",
     "text": [
      "What was your turnover ?2000000000\n",
      "Did you have done your monthly 2A reconcilationyes\n",
      "First Stage is completed\n",
      "Did you also clear all the mismatches comming in tallyyes\n",
      "Now you can file return\n"
     ]
    }
   ],
   "source": [
    "Turnover=int(input(\"What was your turnover ?\"))\n",
    "if Turnover>=15000000:\n",
    "    Reconcilation=input(\"Did you have done your monthly 2A reconcilation\")\n",
    "    if Reconcilation==\"yes\":\n",
    "        print (\"First Stage is completed\")\n",
    "        Mismatches=input(\"Did you also clear all the mismatches comming in tally\")\n",
    "        if Mismatches==\"yes\":\n",
    "            print(\"Now you can file return\")\n",
    "        else:\n",
    "            print(\"First clear all the mismatches in Tally then go further\")\n",
    "    else:\n",
    "        print(\"First do your monthly reconcilation then you are allowed to file return\")\n",
    "else:\n",
    "    print(\"You are not allowed to file return\")\n"
   ]
  },
  {
   "cell_type": "code",
   "execution_count": 23,
   "id": "14817082",
   "metadata": {},
   "outputs": [
    {
     "name": "stdout",
     "output_type": "stream",
     "text": [
      "what is your age15\n",
      "you are not a senior citizen\n"
     ]
    }
   ],
   "source": [
    "Age=int(input(\"what is your age\"))\n",
    "if Age>=60:\n",
    "    print(\"you are a senior citizen\")\n",
    "else:\n",
    "    print(\"you are not a senior citizen\")\n",
    "    "
   ]
  },
  {
   "cell_type": "code",
   "execution_count": 35,
   "id": "682f6c09",
   "metadata": {},
   "outputs": [
    {
     "ename": "SyntaxError",
     "evalue": "invalid syntax (<ipython-input-35-e3e03eb31902>, line 4)",
     "output_type": "error",
     "traceback": [
      "\u001b[1;36m  File \u001b[1;32m\"<ipython-input-35-e3e03eb31902>\"\u001b[1;36m, line \u001b[1;32m4\u001b[0m\n\u001b[1;33m    elif:\u001b[0m\n\u001b[1;37m        ^\u001b[0m\n\u001b[1;31mSyntaxError\u001b[0m\u001b[1;31m:\u001b[0m invalid syntax\n"
     ]
    }
   ],
   "source": [
    "budget=int(input(\"What your budget\"))\n",
    "if budget<=900000:\n",
    "    print(\"you can do painting and floaring\")\n",
    "elif:\n",
    "    budget 1500000>=1000000:\n",
    "    print(\"you can do water protecting, ceilling\")\n",
    "else:\n",
    "    print(\"you can make the budget first\")\n",
    "    "
   ]
  },
  {
   "cell_type": "code",
   "execution_count": null,
   "id": "6abe2514",
   "metadata": {},
   "outputs": [],
   "source": [
    "a=5\n",
    "i=1\n",
    "n=0\n",
    "while i<=5:\n",
    "    i=n+1*2+1\n",
    "print(\"factorial number\",n)"
   ]
  },
  {
   "cell_type": "code",
   "execution_count": null,
   "id": "ef4c6b4b",
   "metadata": {},
   "outputs": [],
   "source": [
    "a=5\n",
    "i=1\n",
    "n=1\n",
    "while i<=5:\n",
    "    n*=1\n",
    "    i=+1\n",
    "    print(\"factorial number\",n)"
   ]
  },
  {
   "cell_type": "code",
   "execution_count": 3,
   "id": "b556f480",
   "metadata": {},
   "outputs": [
    {
     "name": "stdout",
     "output_type": "stream",
     "text": [
      "Hello world\n",
      "Hello world\n",
      "Hello world\n",
      "Hello world\n",
      "Hello world\n"
     ]
    }
   ],
   "source": [
    "i=1\n",
    "while i<=5:\n",
    "    print(\"Hello world\",)\n",
    "    i=i+1"
   ]
  },
  {
   "cell_type": "code",
   "execution_count": 10,
   "id": "475408c6",
   "metadata": {},
   "outputs": [
    {
     "name": "stdout",
     "output_type": "stream",
     "text": [
      "################"
     ]
    }
   ],
   "source": [
    "for i in range(4):\n",
    "    for j in range(4):\n",
    "        print(\"#\", end=\"\")"
   ]
  },
  {
   "cell_type": "code",
   "execution_count": 1,
   "id": "a4c27584",
   "metadata": {},
   "outputs": [
    {
     "data": {
      "text/plain": [
       "'C:\\\\Users\\\\anshu\\\\python file'"
      ]
     },
     "execution_count": 1,
     "metadata": {},
     "output_type": "execute_result"
    }
   ],
   "source": [
    "pwd"
   ]
  },
  {
   "cell_type": "code",
   "execution_count": 2,
   "id": "c1c9df7e",
   "metadata": {},
   "outputs": [
    {
     "data": {
      "text/plain": [
       "0.8333333333333334"
      ]
     },
     "execution_count": 2,
     "metadata": {},
     "output_type": "execute_result"
    }
   ],
   "source": [
    "x=5\n",
    "y=6\n",
    "x/y"
   ]
  },
  {
   "cell_type": "code",
   "execution_count": 3,
   "id": "fdc44e4a",
   "metadata": {},
   "outputs": [
    {
     "data": {
      "text/plain": [
       "0"
      ]
     },
     "execution_count": 3,
     "metadata": {},
     "output_type": "execute_result"
    }
   ],
   "source": [
    "x//y\n"
   ]
  },
  {
   "cell_type": "code",
   "execution_count": 4,
   "id": "321c0ebc",
   "metadata": {},
   "outputs": [
    {
     "data": {
      "text/plain": [
       "int"
      ]
     },
     "execution_count": 4,
     "metadata": {},
     "output_type": "execute_result"
    }
   ],
   "source": [
    "a=5\n",
    "type(a)"
   ]
  },
  {
   "cell_type": "code",
   "execution_count": null,
   "id": "b8ff49e7",
   "metadata": {},
   "outputs": [],
   "source": [
    "# create the variables and store the marks of 3 students and find their average marks\n",
    "# total marks obtained marks find the pert\n",
    "# given 3 sides of the triangle find the area of the triangle\n",
    "# given height of the triangle find the triangle\n"
   ]
  },
  {
   "cell_type": "code",
   "execution_count": null,
   "id": "8c612e5f",
   "metadata": {},
   "outputs": [],
   "source": [
    "base=5\n",
    "hieght=6\n",
    "area = 1/2*(base*hieght)\n",
    "int(input(area))"
   ]
  },
  {
   "cell_type": "code",
   "execution_count": null,
   "id": "3807ea5d",
   "metadata": {},
   "outputs": [],
   "source": []
  },
  {
   "cell_type": "code",
   "execution_count": 4,
   "id": "c8b6f369",
   "metadata": {},
   "outputs": [
    {
     "name": "stdout",
     "output_type": "stream",
     "text": [
      "total marks100\n",
      "total marks obtained60\n",
      "60.0\n"
     ]
    }
   ],
   "source": [
    "a=int(input(\"total marks\"))\n",
    "b=int(input(\"total marks obtained\"))\n",
    "percentage=b/a*100\n",
    "print(percentage)"
   ]
  },
  {
   "cell_type": "code",
   "execution_count": null,
   "id": "aba7ae65",
   "metadata": {},
   "outputs": [],
   "source": [
    "a=50\n",
    "b=60\n",
    "c=70\n"
   ]
  },
  {
   "cell_type": "code",
   "execution_count": 1,
   "id": "91b4fd8f",
   "metadata": {},
   "outputs": [
    {
     "name": "stdout",
     "output_type": "stream",
     "text": [
      "what is the base25\n",
      "what is the height65\n",
      "812.5\n"
     ]
    }
   ],
   "source": [
    "b=int(input(\"what is the base\"))\n",
    "h=int(input(\"what is the height\"))\n",
    "area= 1/2*b*h\n",
    "print(area)\n"
   ]
  },
  {
   "cell_type": "code",
   "execution_count": 5,
   "id": "799e61bb",
   "metadata": {},
   "outputs": [
    {
     "name": "stdout",
     "output_type": "stream",
     "text": [
      "you have a loss of Rs 85\n"
     ]
    }
   ],
   "source": [
    "cp=100\n",
    "sp=15\n",
    "if sp>cp:\n",
    "    profit=sp-cp\n",
    "    print(\"You have a profit of Rs\",profit)\n",
    "else:\n",
    "    loss=cp-sp\n",
    "    print(\"you have a loss of Rs\",loss)\n"
   ]
  },
  {
   "cell_type": "code",
   "execution_count": 16,
   "id": "28b2ee56",
   "metadata": {},
   "outputs": [
    {
     "name": "stdout",
     "output_type": "stream",
     "text": [
      "the greatest no. is 25\n"
     ]
    }
   ],
   "source": [
    "x=10 \n",
    "y=25\n",
    "if x<y:\n",
    "    print(\"the greatest no. is\",y)\n",
    "else:\n",
    "    print(\"the lowest no. is\",x)\n",
    "    "
   ]
  },
  {
   "cell_type": "code",
   "execution_count": 17,
   "id": "845c2dbd",
   "metadata": {},
   "outputs": [
    {
     "name": "stdout",
     "output_type": "stream",
     "text": [
      "the lowest no. is 10\n"
     ]
    }
   ],
   "source": [
    "x=10 \n",
    "y=25\n",
    "if x>y:\n",
    "    print(\"the greatest no. is\",y)\n",
    "else:\n",
    "    print(\"the lowest no. is\",x)\n",
    "    "
   ]
  },
  {
   "cell_type": "code",
   "execution_count": 52,
   "id": "6635ad9f",
   "metadata": {},
   "outputs": [
    {
     "name": "stdout",
     "output_type": "stream",
     "text": [
      "we have a negative number\n"
     ]
    }
   ],
   "source": [
    "x=-5\n",
    "if x<=1:\n",
    "    print(\"we have a negative number\")\n",
    "else:\n",
    "    print(\"we have a positive number\")\n"
   ]
  },
  {
   "cell_type": "code",
   "execution_count": 54,
   "id": "4a1b0065",
   "metadata": {},
   "outputs": [
    {
     "name": "stdout",
     "output_type": "stream",
     "text": [
      "a is a even number\n"
     ]
    }
   ],
   "source": [
    "a=24\n",
    "if not a%2:\n",
    "    print(\"a is a even number\")\n",
    "else:\n",
    "    print(\"a is a odd number\")"
   ]
  },
  {
   "cell_type": "code",
   "execution_count": 57,
   "id": "3c4c3afe",
   "metadata": {},
   "outputs": [
    {
     "name": "stdout",
     "output_type": "stream",
     "text": [
      "the greatest no. is n1\n"
     ]
    }
   ],
   "source": [
    "n1=10\n",
    "n2=6\n",
    "n3=7\n",
    "if n1>n2 and n1>n3:\n",
    "    print(\"the greatest no. is n1\")\n",
    "elif n2>n3 and n2>n1:\n",
    "    print(\"the greatest no. is n2\")\n",
    "else:\n",
    "    print(\"the greatest no. is n3\")"
   ]
  },
  {
   "cell_type": "code",
   "execution_count": null,
   "id": "ddeb295a",
   "metadata": {},
   "outputs": [],
   "source": [
    "# nested if (ladder if statement)"
   ]
  },
  {
   "cell_type": "code",
   "execution_count": 70,
   "id": "b6b8900b",
   "metadata": {},
   "outputs": [
    {
     "name": "stdout",
     "output_type": "stream",
     "text": [
      "n3 is the greatest\n"
     ]
    }
   ],
   "source": [
    "n1=70\n",
    "n2=55\n",
    "n3=100\n",
    "if n1>n2:\n",
    "    if n1>n3:\n",
    "        print(\"n1 is the greatest\")\n",
    "    else:\n",
    "        print(\"n3 is the greatest\")\n",
    "elif n2>n3:\n",
    "    print(\"n2 is the greatest\")\n",
    "else:\n",
    "    print(\"n3 is the greatest\")"
   ]
  },
  {
   "cell_type": "code",
   "execution_count": 69,
   "id": "f72710f8",
   "metadata": {},
   "outputs": [
    {
     "name": "stdout",
     "output_type": "stream",
     "text": [
      "n2 is the greatest\n"
     ]
    }
   ],
   "source": [
    "n1=70\n",
    "n2=80\n",
    "n3=50\n",
    "if n1>n2:\n",
    "    if n1>n3:\n",
    "        print(\"n1 is the greatest\")\n",
    "    else:\n",
    "        print(\"n3 is the greatest\")\n",
    "else:\n",
    "    if n2>n3:\n",
    "        print(\"n2 is the greatest\")\n",
    "    else:\n",
    "        print(\"n3 is the greatest\")\n",
    "        "
   ]
  },
  {
   "cell_type": "code",
   "execution_count": 1,
   "id": "e2c0a44d",
   "metadata": {},
   "outputs": [
    {
     "name": "stdout",
     "output_type": "stream",
     "text": [
      "how much marks you have55\n",
      " you are getting C grade\n"
     ]
    }
   ],
   "source": [
    "a=int(input(\"how much marks you have\"))\n",
    "if a>=80:\n",
    "    print(\" you are getting A grade\")\n",
    "elif a>=60 and a<80:\n",
    "    print(\"you are getting B grade\")\n",
    "elif a>=40 and a<60:\n",
    "    print(\" you are getting C grade\")\n",
    "else:\n",
    "    print(\" you are getting D grade\")\n",
    "    "
   ]
  },
  {
   "cell_type": "code",
   "execution_count": 9,
   "id": "2c7e94c2",
   "metadata": {},
   "outputs": [
    {
     "name": "stdout",
     "output_type": "stream",
     "text": [
      "what is your income600000\n",
      "you dont have to pay tax\n"
     ]
    }
   ],
   "source": [
    "income=int(input(\"what is your income\"))\n",
    "if income>=1000000:\n",
    "    tax=income/10*100\n",
    "    print(\"you have to pay 10% as tax\",tax)\n",
    "elif income>=700000:\n",
    "    tax=income/5*100\n",
    "    print(\"you have to pay 5% as tax\",tax)\n",
    "else:\n",
    "    print(\"you dont have to pay tax\")"
   ]
  },
  {
   "cell_type": "code",
   "execution_count": 10,
   "id": "4086ee03",
   "metadata": {},
   "outputs": [
    {
     "name": "stdout",
     "output_type": "stream",
     "text": [
      "Enter your age ?21\n",
      "Are you having driving licenseno\n",
      "Do you have reciept ?yes\n",
      "You are allowed to drive.\n"
     ]
    }
   ],
   "source": [
    "age=int(input(\"Enter your age ?\"))\n",
    "if age>=18:\n",
    "    dl=input(\"Are you having driving license\")\n",
    "    if dl==\"yes\":\n",
    "        print(\"You are allowed to drive\")\n",
    "    else:\n",
    "        Reciept=input(\"Do you have reciept ?\")\n",
    "        if Reciept==\"yes\":\n",
    "            print(\"You are allowed to drive.\")\n",
    "        else:\n",
    "            print(\"you are not allowed\")\n",
    "else:\n",
    "    (\"You are not allowed to drive\")\n"
   ]
  },
  {
   "cell_type": "code",
   "execution_count": 11,
   "id": "db9e7cc7",
   "metadata": {},
   "outputs": [
    {
     "name": "stdout",
     "output_type": "stream",
     "text": [
      "what is you income1500000\n",
      "you have to pay income tax 225000.0 Rs\n"
     ]
    }
   ],
   "source": [
    "income=int(input(\"what is you income\"))\n",
    "if income<=500000:\n",
    "    tax=0\n",
    "    print(\"you income is below 5 lac you dont come under tax slab\")\n",
    "elif income>50000 and income<=70000:\n",
    "    tax=income*5/100\n",
    "    print(\"you have to pay income tax\",tax,\"Rs\")\n",
    "elif income>700000 and income<1000000:\n",
    "    tax=income*10/100\n",
    "    print(\"you have to pay income tax\",tax,\"Rs\")\n",
    "else:\n",
    "    income>1000000\n",
    "    tax=income*15/100\n",
    "    print(\"you have to pay income tax\",tax,\"Rs\")\n",
    "    "
   ]
  },
  {
   "cell_type": "code",
   "execution_count": null,
   "id": "777b64ea",
   "metadata": {},
   "outputs": [],
   "source": [
    "# for i in range(n):"
   ]
  },
  {
   "cell_type": "code",
   "execution_count": 12,
   "id": "aac3aa4d",
   "metadata": {},
   "outputs": [
    {
     "name": "stdout",
     "output_type": "stream",
     "text": [
      "run 0\n",
      "run 1\n",
      "run 2\n",
      "run 3\n",
      "run 4\n"
     ]
    }
   ],
   "source": [
    "for i in range(5):\n",
    "    print(\"run\",i)"
   ]
  },
  {
   "cell_type": "code",
   "execution_count": 14,
   "id": "842e5f08",
   "metadata": {},
   "outputs": [
    {
     "name": "stdout",
     "output_type": "stream",
     "text": [
      "run 1\n",
      "run 2\n",
      "run 3\n",
      "run 4\n",
      "run 5\n"
     ]
    }
   ],
   "source": [
    "for i in range(5):\n",
    "    print(\"run\",i+1)"
   ]
  },
  {
   "cell_type": "code",
   "execution_count": 16,
   "id": "4f7ab3b7",
   "metadata": {},
   "outputs": [
    {
     "name": "stdout",
     "output_type": "stream",
     "text": [
      "run\n",
      "run\n",
      "run\n",
      "run\n",
      "run\n",
      "stop\n"
     ]
    }
   ],
   "source": [
    "for i in range(5):\n",
    "    print(\"run\")\n",
    "print(\"stop\")"
   ]
  },
  {
   "cell_type": "code",
   "execution_count": 28,
   "id": "b0a27d56",
   "metadata": {},
   "outputs": [
    {
     "name": "stdout",
     "output_type": "stream",
     "text": [
      "i\n",
      "i\n",
      "i\n",
      "i\n",
      "i\n",
      "stop\n"
     ]
    }
   ],
   "source": [
    "for i in range(1,10,2):\n",
    "    print(\"i\")\n",
    "print(\"stop\")"
   ]
  },
  {
   "cell_type": "code",
   "execution_count": 24,
   "id": "8a10a591",
   "metadata": {},
   "outputs": [
    {
     "name": "stdout",
     "output_type": "stream",
     "text": [
      "15\n",
      "13\n",
      "11\n",
      "9\n",
      "7\n",
      "5\n",
      "3\n",
      "1\n"
     ]
    }
   ],
   "source": [
    "for i in range (15,0,-2):\n",
    "    print(i)"
   ]
  },
  {
   "cell_type": "code",
   "execution_count": 42,
   "id": "ae47a482",
   "metadata": {},
   "outputs": [
    {
     "name": "stdout",
     "output_type": "stream",
     "text": [
      "Sum of natural no. is 11\n"
     ]
    }
   ],
   "source": [
    "n=10\n",
    "s=0\n",
    "for i in range (n+1):\n",
    "    s=s+1\n",
    "print(\"Sum of natural no. is\",s)"
   ]
  },
  {
   "cell_type": "code",
   "execution_count": 46,
   "id": "b8735eec",
   "metadata": {},
   "outputs": [
    {
     "name": "stdout",
     "output_type": "stream",
     "text": [
      "factorial no. is 0\n"
     ]
    }
   ],
   "source": [
    "n=5\n",
    "s=1\n",
    "for i in range (n-1):\n",
    "    s=n-\n",
    "print(\"factorial no. is\",s)"
   ]
  },
  {
   "cell_type": "code",
   "execution_count": 51,
   "id": "00b06e82",
   "metadata": {},
   "outputs": [
    {
     "ename": "NameError",
     "evalue": "name 'x' is not defined",
     "output_type": "error",
     "traceback": [
      "\u001b[1;31m---------------------------------------------------------------------------\u001b[0m",
      "\u001b[1;31mNameError\u001b[0m                                 Traceback (most recent call last)",
      "\u001b[1;32m<ipython-input-51-d633d252f7e9>\u001b[0m in \u001b[0;36m<module>\u001b[1;34m\u001b[0m\n\u001b[1;32m----> 1\u001b[1;33m \u001b[0mn\u001b[0m\u001b[1;33m=\u001b[0m\u001b[0mx\u001b[0m\u001b[1;33m\u001b[0m\u001b[1;33m\u001b[0m\u001b[0m\n\u001b[0m\u001b[0;32m      2\u001b[0m \u001b[1;32mfor\u001b[0m \u001b[0mi\u001b[0m \u001b[1;32min\u001b[0m \u001b[0mrange\u001b[0m \u001b[1;33m(\u001b[0m\u001b[0mn\u001b[0m\u001b[1;33m,\u001b[0m\u001b[1;36m0\u001b[0m\u001b[1;33m,\u001b[0m\u001b[1;33m-\u001b[0m\u001b[1;36m1\u001b[0m\u001b[1;33m)\u001b[0m\u001b[1;33m:\u001b[0m\u001b[1;33m\u001b[0m\u001b[1;33m\u001b[0m\u001b[0m\n\u001b[0;32m      3\u001b[0m     \u001b[0mn\u001b[0m\u001b[1;33m=\u001b[0m\u001b[0mx\u001b[0m\u001b[1;33m*\u001b[0m\u001b[1;36m1\u001b[0m\u001b[1;33m+\u001b[0m\u001b[1;36m1\u001b[0m\u001b[1;33m\u001b[0m\u001b[1;33m\u001b[0m\u001b[0m\n\u001b[0;32m      4\u001b[0m \u001b[0mprint\u001b[0m\u001b[1;33m(\u001b[0m\u001b[1;34m\"the factorial of 5 is\"\u001b[0m\u001b[1;33m,\u001b[0m\u001b[0mn\u001b[0m\u001b[1;33m)\u001b[0m\u001b[1;33m\u001b[0m\u001b[1;33m\u001b[0m\u001b[0m\n\u001b[0;32m      5\u001b[0m \u001b[1;33m\u001b[0m\u001b[0m\n",
      "\u001b[1;31mNameError\u001b[0m: name 'x' is not defined"
     ]
    }
   ],
   "source": [
    "n=x\n",
    "for i in range (n,0,-1):\n",
    "    n=x*1+1\n",
    "print(\"the factorial of 5 is\",n)\n",
    "    "
   ]
  },
  {
   "cell_type": "code",
   "execution_count": 4,
   "id": "67268969",
   "metadata": {},
   "outputs": [
    {
     "name": "stdout",
     "output_type": "stream",
     "text": [
      "******"
     ]
    }
   ],
   "source": [
    "r=3\n",
    "l=4\n",
    "for i in range(l):\n",
    "    for r in range(r):\n",
    "        print(\"*\", end=\"\")"
   ]
  },
  {
   "cell_type": "code",
   "execution_count": 32,
   "id": "e40fb3a5",
   "metadata": {},
   "outputs": [
    {
     "name": "stdout",
     "output_type": "stream",
     "text": [
      "\n",
      "\n",
      "\n",
      "\n"
     ]
    }
   ],
   "source": [
    "n=5\n",
    "for i in range(1,5):\n",
    "    for j in range(n,j,+1):\n",
    "        print(\"*\", end=\"\")\n",
    "    print()"
   ]
  },
  {
   "cell_type": "code",
   "execution_count": 7,
   "id": "26ffecd5",
   "metadata": {},
   "outputs": [
    {
     "name": "stdout",
     "output_type": "stream",
     "text": [
      "**\n",
      "****\n",
      "******\n",
      "********\n",
      "**********\n"
     ]
    }
   ],
   "source": [
    "n=10\n",
    "for i in range(1,n,+2):\n",
    "    for j in range (i+1):\n",
    "        print(\"*\",end=\"\")\n",
    "    print(\"\")"
   ]
  },
  {
   "cell_type": "code",
   "execution_count": 9,
   "id": "4bc51a05",
   "metadata": {},
   "outputs": [
    {
     "name": "stdout",
     "output_type": "stream",
     "text": [
      "**\n",
      "******\n",
      "**********\n",
      "**************\n",
      "******************\n"
     ]
    }
   ],
   "source": [
    "n=10\n",
    "for i in range(1,n,+2):\n",
    "    for j in range (i*2):\n",
    "        print(\"*\",end= \"\")\n",
    "    print(\"\")"
   ]
  },
  {
   "cell_type": "code",
   "execution_count": 16,
   "id": "1688d61a",
   "metadata": {},
   "outputs": [
    {
     "name": "stdout",
     "output_type": "stream",
     "text": [
      "* \n"
     ]
    }
   ],
   "source": [
    "n=5\n",
    "for i in range(n,0,-1):\n",
    "    print(\"\",end=\"\")\n",
    "for j in range (i):\n",
    "    print(\"* \",end=\"\")\n",
    "print(\"\")"
   ]
  },
  {
   "cell_type": "raw",
   "id": "89af1e03",
   "metadata": {},
   "source": [
    "pwd"
   ]
  }
 ],
 "metadata": {
  "kernelspec": {
   "display_name": "Python 3",
   "language": "python",
   "name": "python3"
  },
  "language_info": {
   "codemirror_mode": {
    "name": "ipython",
    "version": 3
   },
   "file_extension": ".py",
   "mimetype": "text/x-python",
   "name": "python",
   "nbconvert_exporter": "python",
   "pygments_lexer": "ipython3",
   "version": "3.9.5"
  }
 },
 "nbformat": 4,
 "nbformat_minor": 5
}
